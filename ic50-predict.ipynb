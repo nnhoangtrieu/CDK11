{
 "cells": [
  {
   "cell_type": "markdown",
   "metadata": {},
   "source": [
    "## 1. Import"
   ]
  },
  {
   "cell_type": "code",
   "execution_count": 2,
   "metadata": {},
   "outputs": [
    {
     "name": "stderr",
     "output_type": "stream",
     "text": [
      "Failed to find the pandas get_adjustment() function to patch\n",
      "Failed to patch pandas - PandasTools will have limited functionality\n"
     ]
    }
   ],
   "source": [
    "import rdkit \n",
    "from rdkit import Chem \n",
    "from rdkit.Chem import PandasTools\n",
    "from utils import * "
   ]
  },
  {
   "cell_type": "markdown",
   "metadata": {},
   "source": [
    "## 2. "
   ]
  },
  {
   "cell_type": "code",
   "execution_count": 13,
   "metadata": {},
   "outputs": [
    {
     "name": "stderr",
     "output_type": "stream",
     "text": [
      "Failed to patch pandas - unable to change molecule rendering\n"
     ]
    }
   ],
   "source": [
    "dataset = PandasTools.LoadSDF('data/ori_CDK11_MR_3382_DSF_purines.sdf')\n",
    "dataset['pIC50_calc'] = dataset['pIC50_calc'].astype(float)\n",
    "dataset['SMILES'] = dataset['ROMol'].apply(Chem.MolToSmiles)"
   ]
  },
  {
   "cell_type": "code",
   "execution_count": 14,
   "metadata": {},
   "outputs": [
    {
     "data": {
      "text/html": [
       "<div>\n",
       "<style scoped>\n",
       "    .dataframe tbody tr th:only-of-type {\n",
       "        vertical-align: middle;\n",
       "    }\n",
       "\n",
       "    .dataframe tbody tr th {\n",
       "        vertical-align: top;\n",
       "    }\n",
       "\n",
       "    .dataframe thead th {\n",
       "        text-align: right;\n",
       "    }\n",
       "</style>\n",
       "<table border=\"1\" class=\"dataframe\">\n",
       "  <thead>\n",
       "    <tr style=\"text-align: right;\">\n",
       "      <th></th>\n",
       "      <th>Book</th>\n",
       "      <th>MR#</th>\n",
       "      <th>pIC50_calc</th>\n",
       "      <th>RB_IC50_full</th>\n",
       "      <th>DSF</th>\n",
       "      <th>scafold</th>\n",
       "      <th>labels</th>\n",
       "      <th>ID</th>\n",
       "      <th>ROMol</th>\n",
       "      <th>SMILES</th>\n",
       "    </tr>\n",
       "  </thead>\n",
       "  <tbody>\n",
       "    <tr>\n",
       "      <th>0</th>\n",
       "      <td>NE-0119</td>\n",
       "      <td>MR-3001</td>\n",
       "      <td>5.00</td>\n",
       "      <td>10000.</td>\n",
       "      <td>5.9</td>\n",
       "      <td>1.</td>\n",
       "      <td>purine</td>\n",
       "      <td>C17H25N7</td>\n",
       "      <td>&lt;rdkit.Chem.rdchem.Mol object at 0x15549a0baa40&gt;</td>\n",
       "      <td>CN1CC=C(c2nc(N[C@@H]3CCCNC3)c3ncn(C)c3n2)CC1</td>\n",
       "    </tr>\n",
       "    <tr>\n",
       "      <th>1</th>\n",
       "      <td>NE-0111</td>\n",
       "      <td>MR-3002</td>\n",
       "      <td>5.39</td>\n",
       "      <td>4048.</td>\n",
       "      <td>7.</td>\n",
       "      <td>1.</td>\n",
       "      <td>purine</td>\n",
       "      <td>C17H25N7</td>\n",
       "      <td>&lt;rdkit.Chem.rdchem.Mol object at 0x15549a0ba8f0&gt;</td>\n",
       "      <td>CN1CC=C(c2nc(N[C@H]3CCCNC3)c3ncn(C)c3n2)CC1</td>\n",
       "    </tr>\n",
       "    <tr>\n",
       "      <th>2</th>\n",
       "      <td>NE-0112</td>\n",
       "      <td>MR-3003</td>\n",
       "      <td>5.00</td>\n",
       "      <td>10000.</td>\n",
       "      <td>2.6</td>\n",
       "      <td>1.</td>\n",
       "      <td>purine</td>\n",
       "      <td>C15H18F2N8</td>\n",
       "      <td>&lt;rdkit.Chem.rdchem.Mol object at 0x15549a0bab20&gt;</td>\n",
       "      <td>Cn1cnc2c(N[C@@H]3CCCNC3)nc(-c3cnn(C(F)F)c3)nc21</td>\n",
       "    </tr>\n",
       "    <tr>\n",
       "      <th>3</th>\n",
       "      <td>NE-0113</td>\n",
       "      <td>MR-3004</td>\n",
       "      <td>5.45</td>\n",
       "      <td>3584.</td>\n",
       "      <td>6.</td>\n",
       "      <td>1.</td>\n",
       "      <td>purine</td>\n",
       "      <td>C15H18F2N8</td>\n",
       "      <td>&lt;rdkit.Chem.rdchem.Mol object at 0x15549a0ba9d0&gt;</td>\n",
       "      <td>Cn1cnc2c(N[C@H]3CCCNC3)nc(-c3cnn(C(F)F)c3)nc21</td>\n",
       "    </tr>\n",
       "    <tr>\n",
       "      <th>4</th>\n",
       "      <td>NE-0114</td>\n",
       "      <td>MR-3005</td>\n",
       "      <td>5.00</td>\n",
       "      <td>10000.</td>\n",
       "      <td>2.2</td>\n",
       "      <td>1.</td>\n",
       "      <td>purine</td>\n",
       "      <td>C24H33N7O</td>\n",
       "      <td>&lt;rdkit.Chem.rdchem.Mol object at 0x15549a0bb680&gt;</td>\n",
       "      <td>Cn1cnc2c(N[C@@H]3CCCNC3)nc(-c3ccc(OCCN4CCCCC4)...</td>\n",
       "    </tr>\n",
       "  </tbody>\n",
       "</table>\n",
       "</div>"
      ],
      "text/plain": [
       "      Book      MR#  pIC50_calc RB_IC50_full  DSF scafold  labels          ID  \\\n",
       "0  NE-0119  MR-3001        5.00       10000.  5.9      1.  purine    C17H25N7   \n",
       "1  NE-0111  MR-3002        5.39        4048.   7.      1.  purine    C17H25N7   \n",
       "2  NE-0112  MR-3003        5.00       10000.  2.6      1.  purine  C15H18F2N8   \n",
       "3  NE-0113  MR-3004        5.45        3584.   6.      1.  purine  C15H18F2N8   \n",
       "4  NE-0114  MR-3005        5.00       10000.  2.2      1.  purine   C24H33N7O   \n",
       "\n",
       "                                              ROMol  \\\n",
       "0  <rdkit.Chem.rdchem.Mol object at 0x15549a0baa40>   \n",
       "1  <rdkit.Chem.rdchem.Mol object at 0x15549a0ba8f0>   \n",
       "2  <rdkit.Chem.rdchem.Mol object at 0x15549a0bab20>   \n",
       "3  <rdkit.Chem.rdchem.Mol object at 0x15549a0ba9d0>   \n",
       "4  <rdkit.Chem.rdchem.Mol object at 0x15549a0bb680>   \n",
       "\n",
       "                                              SMILES  \n",
       "0       CN1CC=C(c2nc(N[C@@H]3CCCNC3)c3ncn(C)c3n2)CC1  \n",
       "1        CN1CC=C(c2nc(N[C@H]3CCCNC3)c3ncn(C)c3n2)CC1  \n",
       "2    Cn1cnc2c(N[C@@H]3CCCNC3)nc(-c3cnn(C(F)F)c3)nc21  \n",
       "3     Cn1cnc2c(N[C@H]3CCCNC3)nc(-c3cnn(C(F)F)c3)nc21  \n",
       "4  Cn1cnc2c(N[C@@H]3CCCNC3)nc(-c3ccc(OCCN4CCCCC4)...  "
      ]
     },
     "execution_count": 14,
     "metadata": {},
     "output_type": "execute_result"
    }
   ],
   "source": [
    "dataset.head()"
   ]
  },
  {
   "cell_type": "code",
   "execution_count": null,
   "metadata": {},
   "outputs": [],
   "source": []
  }
 ],
 "metadata": {
  "kernelspec": {
   "display_name": "Python 3 (ipykernel)",
   "language": "python",
   "name": "python3"
  },
  "language_info": {
   "codemirror_mode": {
    "name": "ipython",
    "version": 3
   },
   "file_extension": ".py",
   "mimetype": "text/x-python",
   "name": "python",
   "nbconvert_exporter": "python",
   "pygments_lexer": "ipython3",
   "version": "3.12.3"
  }
 },
 "nbformat": 4,
 "nbformat_minor": 2
}
