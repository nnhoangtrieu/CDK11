{
 "cells": [
  {
   "cell_type": "code",
   "execution_count": 9,
   "metadata": {},
   "outputs": [],
   "source": [
    "import rdkit\n",
    "import copy\n",
    "from rdkit import Chem \n",
    "from rdkit.Chem import Draw, Kekulize, SanitizeMol\n",
    "from rdkit.Chem.rdmolops import CombineMols\n",
    "from rdkit import RDLogger\n",
    "RDLogger.DisableLog('rdApp.error')"
   ]
  },
  {
   "cell_type": "code",
   "execution_count": 17,
   "metadata": {},
   "outputs": [],
   "source": [
    "def idx_annotate(x):\n",
    "    \"\"\"\n",
    "    Taken from: https://iwatobipen.wordpress.com/2017/02/25/draw-molecule-with-atom-index-in-rdkit/\n",
    "    \n",
    "    Add label to each molecule's atom: \"atom_name:atom_index\"\n",
    "    \"\"\"\n",
    "    mol = copy.deepcopy(x)\n",
    "    for idx in range(mol.GetNumAtoms()):\n",
    "        mol.GetAtomWithIdx(idx).SetProp(\n",
    "            'molAtomMapNumber', \n",
    "            str(mol.GetAtomWithIdx(idx).GetIdx())\n",
    "        )\n",
    "    return mol\n",
    "\n",
    "def mol(x) : \n",
    "    return Chem.MolFromSmiles(x)\n",
    "\n",
    "def draw(x) : \n",
    "    if type(x) == str : x = mol(x)\n",
    "    Draw.MolToImage(x).show()\n",
    "\n",
    "def auto_add(x, y, manual_select=False) : \n",
    "    if type(x) == str : x = mol(x)\n",
    "    if type(y) == str : y = mol(y)\n",
    "    \n",
    "    combo = CombineMols(x, y) \n",
    "    output = []\n",
    "    add_atom = None\n",
    "\n",
    "    if manual_select : \n",
    "        draw(idx_annotate(x))\n",
    "        add_atom = int(input(\"Select atom to add to: \"))\n",
    "\n",
    "    for i in range(x.GetNumAtoms()) :\n",
    "        if add_atom : i = add_atom\n",
    "        for j in range(x.GetNumAtoms(), combo.GetNumAtoms()) :\n",
    "            for b in [Chem.rdchem.BondType.SINGLE, Chem.rdchem.BondType.DOUBLE, Chem.rdchem.BondType.TRIPLE] :\n",
    "                combo_editable = Chem.EditableMol(combo)\n",
    "                combo_editable.AddBond(i, j, order=b)\n",
    "\n",
    "                try : \n",
    "                    Chem.SanitizeMol(combo_editable.GetMol())\n",
    "                    output.append(Chem.MolToSmiles(combo_editable.GetMol()))\n",
    "                except : pass\n",
    "        if add_atom : break\n",
    "    return output"
   ]
  },
  {
   "cell_type": "code",
   "execution_count": 18,
   "metadata": {},
   "outputs": [],
   "source": [
    "purine = Chem.MolFromSmiles('CCC')\n",
    "addition = Chem.MolFromSmiles('CCO')\n",
    "\n",
    "output = auto_add(purine, addition, False)"
   ]
  },
  {
   "cell_type": "code",
   "execution_count": 19,
   "metadata": {},
   "outputs": [
    {
     "name": "stdout",
     "output_type": "stream",
     "text": [
      "CCCCCO\n",
      "CCC=CCO\n",
      "CCC#CCO\n",
      "CCCC(C)O\n",
      "CCC=C(C)O\n",
      "CCCOCC\n",
      "CC(C)CCO\n",
      "CC(C)=CCO\n",
      "CC(C)C(C)O\n",
      "CC(C)=C(C)O\n",
      "CCOC(C)C\n",
      "CCCCCO\n",
      "CCC=CCO\n",
      "CCC#CCO\n",
      "CCCC(C)O\n",
      "CCC=C(C)O\n",
      "CCCOCC\n"
     ]
    }
   ],
   "source": [
    "for i in output : \n",
    "    print(i)"
   ]
  },
  {
   "cell_type": "code",
   "execution_count": null,
   "metadata": {},
   "outputs": [],
   "source": []
  }
 ],
 "metadata": {
  "kernelspec": {
   "display_name": "Python 3",
   "language": "python",
   "name": "python3"
  },
  "language_info": {
   "codemirror_mode": {
    "name": "ipython",
    "version": 3
   },
   "file_extension": ".py",
   "mimetype": "text/x-python",
   "name": "python",
   "nbconvert_exporter": "python",
   "pygments_lexer": "ipython3",
   "version": "3.12.3"
  }
 },
 "nbformat": 4,
 "nbformat_minor": 2
}
