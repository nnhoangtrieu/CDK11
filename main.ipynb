{
 "cells": [
  {
   "cell_type": "markdown",
   "metadata": {},
   "source": [
    "## 1. Import and Functions"
   ]
  },
  {
   "cell_type": "code",
   "execution_count": 21,
   "metadata": {},
   "outputs": [],
   "source": [
    "import rdkit\n",
    "import copy\n",
    "import pandas as pd\n",
    "from rdkit import Chem \n",
    "from rdkit.Chem import Draw, Kekulize, SanitizeMol, PandasTools, Descriptors\n",
    "from rdkit.Chem.rdmolops import CombineMols\n",
    "from rdkit import RDLogger\n",
    "from utils import * \n",
    "RDLogger.DisableLog('rdApp.error')"
   ]
  },
  {
   "cell_type": "code",
   "execution_count": 4,
   "metadata": {},
   "outputs": [],
   "source": [
    "def idx_annotate(x):\n",
    "    \"\"\"\n",
    "    Taken from: https://iwatobipen.wordpress.com/2017/02/25/draw-molecule-with-atom-index-in-rdkit/\n",
    "    \n",
    "    Add label to each molecule's atom: \"atom_name:atom_index\"\n",
    "    \"\"\"\n",
    "    mol = copy.deepcopy(x)\n",
    "    for idx in range(mol.GetNumAtoms()):\n",
    "        mol.GetAtomWithIdx(idx).SetProp(\n",
    "            'molAtomMapNumber', \n",
    "            str(mol.GetAtomWithIdx(idx).GetIdx())\n",
    "        )\n",
    "    return mol\n",
    "\n",
    "def mol(x) : \n",
    "    return Chem.MolFromSmiles(x)\n",
    "\n",
    "def draw(x) : \n",
    "    if type(x) == str : x = mol(x)\n",
    "    Draw.MolToImage(x).show()\n",
    "\n",
    "def auto_add(x, y, manual_select=False) : \n",
    "    if type(x) == str : x = mol(x)\n",
    "    if type(y) == str : y = mol(y)\n",
    "    \n",
    "    combo = CombineMols(x, y) \n",
    "    output = []\n",
    "    add_atom = None\n",
    "\n",
    "    if isinstance(manual_select, bool) and manual_select : \n",
    "        draw(idx_annotate(x))\n",
    "        add_atom = int(input(\"Select atom to add to: \"))\n",
    "    elif isinstance(manual_select, int) : \n",
    "        add_atom = manual_select\n",
    "\n",
    "    for i in range(x.GetNumAtoms()) :\n",
    "        if add_atom is not None: i = add_atom\n",
    "        for j in range(x.GetNumAtoms(), combo.GetNumAtoms()) :\n",
    "            for b in [Chem.rdchem.BondType.SINGLE, Chem.rdchem.BondType.DOUBLE, Chem.rdchem.BondType.TRIPLE] :\n",
    "                combo_editable = Chem.EditableMol(combo)\n",
    "                combo_editable.AddBond(i, j, order=b)\n",
    "\n",
    "                try : \n",
    "                    Chem.SanitizeMol(combo_editable.GetMol())\n",
    "                    output.append(Chem.MolToSmiles(combo_editable.GetMol()))\n",
    "                except : pass\n",
    "        if add_atom is not None: break\n",
    "    return output"
   ]
  },
  {
   "cell_type": "markdown",
   "metadata": {},
   "source": [
    "## 2. Combine molecules"
   ]
  },
  {
   "cell_type": "code",
   "execution_count": 3,
   "metadata": {},
   "outputs": [
    {
     "name": "stderr",
     "output_type": "stream",
     "text": [
      "Reading SMILES: 100%|███████████████████████████████████████████████████████████████████████████████████████████████████████████████████████████████████████████████████████████████████████████| 50/50 [00:00<00:00, 9033.61it/s]\n",
      "Reading SMILES: 100%|███████████████████████████████████████████████████████████████████████████████████████████████████████████████████████████████████████████████████████████████████████████| 50/50 [00:00<00:00, 9532.51it/s]\n",
      "Reading SMILES: 100%|███████████████████████████████████████████████████████████████████████████████████████████████████████████████████████████████████████████████████████████████████████████| 50/50 [00:00<00:00, 9927.82it/s]\n"
     ]
    }
   ],
   "source": [
    "core = Chem.MolFromSmiles('Cn1cnc2c(N[C@H]3CCCNC3)ncnc12')\n",
    "\n",
    "sulfonyl_halide = read_smi('data/Enamine_Full_SulfonylHalides.sdf')\n",
    "aryl_halide = read_smi('data/Enamine_Full_ArylHalides.sdf')\n",
    "secondary_amines = read_smi('data/Enamine_Full_SecondaryAmines.sdf')\n",
    "\n",
    "sulfonyl_halide_output, aryl_halide_output, secondary_amines_output = [], [], []"
   ]
  },
  {
   "cell_type": "code",
   "execution_count": 4,
   "metadata": {},
   "outputs": [],
   "source": [
    "for i in sulfonyl_halide : \n",
    "    output = auto_add(core, i, manual_select=14)\n",
    "    for o in output : \n",
    "        sulfonyl_halide_output.append(o)\n",
    "\n",
    "for i in aryl_halide : \n",
    "    output = auto_add(core, i, manual_select=14)\n",
    "    for o in output : \n",
    "        aryl_halide_output.append(o)\n",
    "\n",
    "for i in secondary_amines :\n",
    "    output = auto_add(core, i, manual_select=14)\n",
    "    for o in output : \n",
    "        secondary_amines_output.append(o)"
   ]
  },
  {
   "cell_type": "markdown",
   "metadata": {},
   "source": [
    "## 3. Filtering"
   ]
  },
  {
   "cell_type": "code",
   "execution_count": 5,
   "metadata": {},
   "outputs": [
    {
     "name": "stderr",
     "output_type": "stream",
     "text": [
      "Reading SMILES: 100%|████████████████████████████████████████████████████████████████████████████████████████████████████████████████████████████████████| 187070/187070 [00:24<00:00, 7791.42it/s]\n",
      "Reading SMILES: 100%|████████████████████████████████████████████████████████████████████████████████████████████████████████████████████████████████████| 305714/305714 [00:40<00:00, 7512.75it/s]\n",
      "Reading SMILES: 100%|██████████████████████████████████████████████████████████████████████████████████████████████████████████████████████████████████████| 32421/32421 [00:04<00:00, 7603.78it/s]\n"
     ]
    }
   ],
   "source": [
    "aryl_halide_combinations = read_smi('data/output/aryl_halide_combinations.txt')\n",
    "secondary_amines_combinations = read_smi('data/output/secondary_amines_combinations.txt')\n",
    "sulfonyl_halide_combinations = read_smi('data/output/sulfonyl_halide_combinations.txt')"
   ]
  },
  {
   "cell_type": "code",
   "execution_count": 7,
   "metadata": {},
   "outputs": [],
   "source": [
    "def clean_mixture_molecules(smiles_list) : \n",
    "    return [s for s in tqdm(smiles_list) if '.' not in s]"
   ]
  },
  {
   "cell_type": "code",
   "execution_count": 10,
   "metadata": {},
   "outputs": [
    {
     "name": "stderr",
     "output_type": "stream",
     "text": [
      "100%|█████████████████████████████████████████████████████████████████████████████████████████████████████████████████████████████████████████████████| 187070/187070 [00:00<00:00, 4770647.83it/s]\n",
      "100%|█████████████████████████████████████████████████████████████████████████████████████████████████████████████████████████████████████████████████| 305714/305714 [00:00<00:00, 4742549.93it/s]\n",
      "100%|███████████████████████████████████████████████████████████████████████████████████████████████████████████████████████████████████████████████████| 32421/32421 [00:00<00:00, 4780577.61it/s]\n"
     ]
    }
   ],
   "source": [
    "aryl_halide_combinations_no_mixture = clean_mixture_molecules(aryl_halide_combinations)\n",
    "secondary_amines_combinations_no_mixture = clean_mixture_molecules(secondary_amines_combinations)\n",
    "sulfonyl_halide_combinations_no_mixture = clean_mixture_molecules(sulfonyl_halide_combinations)"
   ]
  },
  {
   "cell_type": "markdown",
   "metadata": {},
   "source": [
    "## 4. Calculate properties"
   ]
  },
  {
   "cell_type": "code",
   "execution_count": 15,
   "metadata": {},
   "outputs": [],
   "source": [
    "aryl_halid_df = pd.DataFrame(aryl_halide_combinations_no_mixture, columns=['SMILES'])\n",
    "secondary_amines_df = pd.DataFrame(secondary_amines_combinations_no_mixture, columns=['SMILES'])\n",
    "sulfonyl_halide_df = pd.DataFrame(sulfonyl_halide_combinations_no_mixture, columns=['SMILES'])\n",
    "\n",
    "PandasTools.AddMoleculeColumnToFrame(aryl_halid_df, 'SMILES')\n",
    "PandasTools.AddMoleculeColumnToFrame(secondary_amines_df, 'SMILES')\n",
    "PandasTools.AddMoleculeColumnToFrame(sulfonyl_halide_df, 'SMILES')"
   ]
  },
  {
   "cell_type": "code",
   "execution_count": 44,
   "metadata": {},
   "outputs": [],
   "source": [
    "desired_desc = ['qed', 'ExactMolWt', 'TPSA', 'NumHAcceptors', 'NumHDonors', 'NHOHCount', 'NOCount', 'NumRotatableBonds', 'RingCount', 'MolLogP']\n",
    "\n",
    "def calculate_properties(df) : \n",
    "    copy_df = copy.deepcopy(df)\n",
    "    desc_func = [f[1] for f in Descriptors._descList if f[0] in desired_desc]\n",
    "    for i, func in enumerate(desc_func) : \n",
    "        print(f'Calculating {desired_desc[i]}...')\n",
    "        copy_df[desired_desc[i]] = copy_df['ROMol'].apply(func)\n",
    "    return copy_df"
   ]
  },
  {
   "cell_type": "code",
   "execution_count": 42,
   "metadata": {},
   "outputs": [
    {
     "name": "stdout",
     "output_type": "stream",
     "text": [
      "Calculating qed...\n",
      "Calculating ExactMolWt...\n",
      "Calculating TPSA...\n",
      "Calculating NumHAcceptors...\n",
      "Calculating NumHDonors...\n",
      "Calculating NHOHCount...\n",
      "Calculating NOCount...\n",
      "Calculating NumRotatableBonds...\n",
      "Calculating RingCount...\n",
      "Calculating MolLogP...\n",
      "Calculating qed...\n",
      "Calculating ExactMolWt...\n",
      "Calculating TPSA...\n",
      "Calculating NumHAcceptors...\n",
      "Calculating NumHDonors...\n",
      "Calculating NHOHCount...\n",
      "Calculating NOCount...\n",
      "Calculating NumRotatableBonds...\n",
      "Calculating RingCount...\n",
      "Calculating MolLogP...\n",
      "Calculating qed...\n",
      "Calculating ExactMolWt...\n",
      "Calculating TPSA...\n",
      "Calculating NumHAcceptors...\n",
      "Calculating NumHDonors...\n",
      "Calculating NHOHCount...\n",
      "Calculating NOCount...\n",
      "Calculating NumRotatableBonds...\n",
      "Calculating RingCount...\n",
      "Calculating MolLogP...\n"
     ]
    }
   ],
   "source": [
    "aryl_haldi_df_calculated = calculate_properties(aryl_halid_df)\n",
    "secondary_amines_df_calculated = calculate_properties(secondary_amines_df)\n",
    "sulfonyl_halide_df_calculated = calculate_properties(sulfonyl_halide_df)"
   ]
  },
  {
   "cell_type": "code",
   "execution_count": 47,
   "metadata": {},
   "outputs": [],
   "source": [
    "PandasTools.WriteSDF(aryl_haldi_df_calculated, 'data/output/aryl_halide_combinations_calculated.sdf', properties=desired_desc)\n",
    "PandasTools.WriteSDF(secondary_amines_df_calculated, 'data/output/secondary_amines_combinations_calculated.sdf', properties=desired_desc)\n",
    "PandasTools.WriteSDF(sulfonyl_halide_df_calculated, 'data/output/sulfonyl_halide_combinations_calculated.sdf', properties=desired_desc)"
   ]
  }
 ],
 "metadata": {
  "kernelspec": {
   "display_name": "Python 3 (ipykernel)",
   "language": "python",
   "name": "python3"
  },
  "language_info": {
   "codemirror_mode": {
    "name": "ipython",
    "version": 3
   },
   "file_extension": ".py",
   "mimetype": "text/x-python",
   "name": "python",
   "nbconvert_exporter": "python",
   "pygments_lexer": "ipython3",
   "version": "3.12.3"
  }
 },
 "nbformat": 4,
 "nbformat_minor": 2
}
