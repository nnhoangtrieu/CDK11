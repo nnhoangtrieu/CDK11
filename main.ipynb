{
 "cells": [
  {
   "cell_type": "code",
   "execution_count": 9,
   "metadata": {},
   "outputs": [],
   "source": [
    "import rdkit\n",
    "import copy\n",
    "from rdkit import Chem \n",
    "from rdkit.Chem import Draw, Kekulize, SanitizeMol\n",
    "from rdkit.Chem.rdmolops import CombineMols\n",
    "from rdkit import RDLogger\n",
    "RDLogger.DisableLog('rdApp.error')"
   ]
  },
  {
   "cell_type": "code",
   "execution_count": 24,
   "metadata": {},
   "outputs": [],
   "source": [
    "def idx_annotate(x):\n",
    "    \"\"\"\n",
    "    Taken from: https://iwatobipen.wordpress.com/2017/02/25/draw-molecule-with-atom-index-in-rdkit/\n",
    "    \n",
    "    Add label to each molecule's atom: \"atom_name:atom_index\"\n",
    "    \"\"\"\n",
    "    mol = copy.deepcopy(x)\n",
    "    for idx in range(mol.GetNumAtoms()):\n",
    "        mol.GetAtomWithIdx(idx).SetProp(\n",
    "            'molAtomMapNumber', \n",
    "            str(mol.GetAtomWithIdx(idx).GetIdx())\n",
    "        )\n",
    "    return mol\n",
    "\n",
    "def mol(x) : \n",
    "    return Chem.MolFromSmiles(x)\n",
    "\n",
    "def draw(x) : \n",
    "    if type(x) == str : x = mol(x)\n",
    "    Draw.MolToImage(x).show()\n",
    "\n",
    "def auto_add(x, y, manual_select=False) : \n",
    "    if type(x) == str : x = mol(x)\n",
    "    if type(y) == str : y = mol(y)\n",
    "    \n",
    "    combo = CombineMols(x, y) \n",
    "    output = []\n",
    "    add_atom = None\n",
    "\n",
    "    if manual_select : \n",
    "        draw(idx_annotate(x))\n",
    "        add_atom = int(input(\"Select atom to add to: \"))\n",
    "\n",
    "    for i in range(x.GetNumAtoms()) :\n",
    "        if add_atom is not None: i = add_atom\n",
    "        for j in range(x.GetNumAtoms(), combo.GetNumAtoms()) :\n",
    "            for b in [Chem.rdchem.BondType.SINGLE, Chem.rdchem.BondType.DOUBLE, Chem.rdchem.BondType.TRIPLE] :\n",
    "                combo_editable = Chem.EditableMol(combo)\n",
    "                combo_editable.AddBond(i, j, order=b)\n",
    "\n",
    "                try : \n",
    "                    Chem.SanitizeMol(combo_editable.GetMol())\n",
    "                    output.append(Chem.MolToSmiles(combo_editable.GetMol()))\n",
    "                except : pass\n",
    "        if add_atom is not None: break\n",
    "    return output"
   ]
  },
  {
   "cell_type": "code",
   "execution_count": 25,
   "metadata": {},
   "outputs": [
    {
     "data": {
      "image/jpeg": "[encoded data removed]",
      "image/png": "[encoded data removed]",
      "text/plain": [
       "<PIL.PngImagePlugin.PngImageFile image mode=RGB size=300x300>"
      ]
     },
     "metadata": {},
     "output_type": "display_data"
    }
   ],
   "source": [
    "purine = Chem.MolFromSmiles('CCC')\n",
    "addition = Chem.MolFromSmiles('CCO')\n",
    "\n",
    "output = auto_add(purine, addition, True)"
   ]
  },
  {
   "cell_type": "code",
   "execution_count": 26,
   "metadata": {},
   "outputs": [
    {
     "name": "stdout",
     "output_type": "stream",
     "text": [
      "CCCCCO\n",
      "CCC=CCO\n",
      "CCC#CCO\n",
      "CCCC(C)O\n",
      "CCC=C(C)O\n",
      "CCCOCC\n"
     ]
    }
   ],
   "source": [
    "for i in output : \n",
    "    print(i)"
   ]
  },
  {
   "cell_type": "code",
   "execution_count": 23,
   "metadata": {},
   "outputs": [
    {
     "name": "stdout",
     "output_type": "stream",
     "text": [
      "True\n"
     ]
    }
   ],
   "source": [
    "print(None == None)"
   ]
  },
  {
   "cell_type": "code",
   "execution_count": null,
   "metadata": {},
   "outputs": [],
   "source": []
  }
 ],
 "metadata": {
  "kernelspec": {
   "display_name": "Python 3",
   "language": "python",
   "name": "python3"
  },
  "language_info": {
   "codemirror_mode": {
    "name": "ipython",
    "version": 3
   },
   "file_extension": ".py",
   "mimetype": "text/x-python",
   "name": "python",
   "nbconvert_exporter": "python",
   "pygments_lexer": "ipython3",
   "version": "3.12.3"
  }
 },
 "nbformat": 4,
 "nbformat_minor": 2
}
